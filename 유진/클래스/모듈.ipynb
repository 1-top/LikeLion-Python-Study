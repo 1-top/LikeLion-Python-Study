{
 "cells": [
  {
   "cell_type": "markdown",
   "source": [
    "모듈"
   ],
   "metadata": {
    "collapsed": false,
    "pycharm": {
     "name": "#%% md\n"
    }
   }
  },
  {
   "cell_type": "raw",
   "source": [
    "\n",
    "함수나 변수 또는 클래스를 모아놓은 파일\n",
    "파이썬 확장자 .py로 만든 파이썬 파일은 모두 모듈"
   ],
   "metadata": {
    "collapsed": false,
    "pycharm": {
     "name": "#%% raw\n"
    }
   }
  },
  {
   "cell_type": "markdown",
   "source": [
    "모듈 불러오기"
   ],
   "metadata": {
    "collapsed": false,
    "pycharm": {
     "name": "#%% md\n"
    }
   }
  },
  {
   "cell_type": "raw",
   "source": [
    "\n",
    "import 모듈명\n",
    "모듈명.함수명\n",
    "\n",
    "* import는 현재 디렉터리에 있는 파일이나 파이썬 라이브러리가 저장된 디렉터리에 있는 모듈만 불러올 수 있음.\n",
    "\n",
    "from 모듈명 import 함수명\n",
    "->모듈.함수가 아닌 함수만으로 사용 가능\n",
    "\n",
    "form 모듈명 import *\n",
    "-> 모든 함수를 불러 사용\n"
   ],
   "metadata": {
    "collapsed": false
   }
  },
  {
   "cell_type": "markdown",
   "source": [
    "if __name__ == \"__main__\":"
   ],
   "metadata": {
    "collapsed": false
   }
  },
  {
   "cell_type": "raw",
   "source": [
    "if __name__ == \"__main__\"을 사용하면\n",
    "직접 파일 실행시 if 다음 수행,\n",
    "모듈로 불러서 사용시 수행되지 않음"
   ],
   "metadata": {
    "collapsed": false,
    "pycharm": {
     "name": "#%% raw\n"
    }
   }
  },
  {
   "cell_type": "raw",
   "source": [
    "모듈은 함수, 변수, 클래스를 포함할 수 있음.\n",
    "다른 파일에서도 모듈을 불러 사용할 수 있지만 동일한 디렉터리 안에 있어야 함."
   ],
   "metadata": {
    "collapsed": false,
    "pycharm": {
     "name": "#%% raw\n"
    }
   }
  },
  {
   "cell_type": "markdown",
   "source": [
    "그 외 모듈을 불러오는 방법"
   ],
   "metadata": {
    "collapsed": false,
    "pycharm": {
     "name": "#%% md\n"
    }
   }
  },
  {
   "cell_type": "raw",
   "source": [
    "1. sys.path.append(모듈을 저장한 디렉터리)\n",
    "sys모듈은 파이썬 라이브러리가 설치되어 있는 디렉터리를 확인할 수 있다.\n",
    "sys.path를 입력하면 라이브러리가 설치되어 있는 디렉터리를 보여준다. sys.path.append(디렉터리)를 통해 sys.path에 (디렉터리)를 추가하면 모듈을 사용할 수 있다."
   ],
   "metadata": {
    "collapsed": false,
    "pycharm": {
     "name": "#%% raw\n"
    }
   }
  },
  {
   "cell_type": "raw",
   "source": [
    "2. pythonpath 환경변수\n",
    "C:\\doit>set PYTHONPATH=C:\\doit\\mymod\n",
    "C:\\doit>python\n",
    ">>> import mod2\n",
    ">>> print(mod2.add(3,4))\n",
    "\n",
    "set 명령어를 사용해 PYTHONPATH 환경 변수에 mod2.py 파일이 있는 C:\\doit\\mymod 디렉터리를 설정한다.\n",
    "디렉터리 이동이나 별도의 모듈 추가 작업 없이 mod2 모듈을 불러와서 사용할 수 있다."
   ],
   "metadata": {
    "collapsed": false,
    "pycharm": {
     "name": "#%% raw\n"
    }
   }
  },
  {
   "cell_type": "code",
   "execution_count": null,
   "outputs": [],
   "source": [],
   "metadata": {
    "collapsed": false,
    "pycharm": {
     "name": "#%%\n"
    }
   }
  }
 ],
 "metadata": {
  "kernelspec": {
   "display_name": "Python 3",
   "language": "python",
   "name": "python3"
  },
  "language_info": {
   "codemirror_mode": {
    "name": "ipython",
    "version": 2
   },
   "file_extension": ".py",
   "mimetype": "text/x-python",
   "name": "python",
   "nbconvert_exporter": "python",
   "pygments_lexer": "ipython2",
   "version": "2.7.6"
  }
 },
 "nbformat": 4,
 "nbformat_minor": 0
}