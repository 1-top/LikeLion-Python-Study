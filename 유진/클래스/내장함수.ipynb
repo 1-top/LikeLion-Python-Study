{
 "cells": [
  {
   "cell_type": "markdown",
   "metadata": {
    "collapsed": true,
    "pycharm": {
     "name": "#%% md\n"
    }
   },
   "source": [
    "내장함수"
   ]
  },
  {
   "cell_type": "raw",
   "source": [
    "자주 쓰는 거 위주로 정리"
   ],
   "metadata": {
    "collapsed": false,
    "pycharm": {
     "name": "#%% raw\n"
    }
   }
  },
  {
   "cell_type": "raw",
   "source": [
    "\n",
    "abs 절댓값\n",
    "all() 인수가 모두 참이면 t 아님 f\n",
    "any() 하나라도 참이면 t 아니면 f\n",
    "chr(유니코드) 유니코드값을 문자로 출력\n",
    "dir 객체가 가진 함수나 변수 보여줌\n",
    "divmod(a,b) 2개이 숫자를 입력으로 받고 a를 b로 나눈 몫, 나머지를 튜플 형태로 반환\n",
    "enumerate 순서가 있는 자료형(리스트 튜플 문자열)을 입력 받아 인덱스 값을 포함하는 객체 돌려줌\n",
    "eval(expression) 실행가능한 문자열을 입력받아 문자열을 실행한 결괏값을 돌려주는 함수"
   ],
   "metadata": {
    "collapsed": false,
    "pycharm": {
     "name": "#%% raw\n"
    }
   }
  },
  {
   "cell_type": "code",
   "execution_count": 1,
   "outputs": [
    {
     "data": {
      "text/plain": "3"
     },
     "execution_count": 1,
     "metadata": {},
     "output_type": "execute_result"
    }
   ],
   "source": [
    "eval('1+2')"
   ],
   "metadata": {
    "collapsed": false,
    "pycharm": {
     "name": "#%%\n"
    }
   }
  },
  {
   "cell_type": "raw",
   "source": [
    "filter 첫번째 인수=함수이름, 두번째 인수=그 함수에 차례로 들어갈 반복가능한 자료형.\n",
    "두번째인수가 첫번째인수인 함수에 입력됐을 때 반환값이 참인 것만 묶어서 돌려줌."
   ],
   "metadata": {
    "collapsed": false,
    "pycharm": {
     "name": "#%% raw\n"
    }
   }
  },
  {
   "cell_type": "raw",
   "source": [
    "hex(x) 정수 값을 입력받아 16진수로 변환하여 돌려주는 함수\n",
    "id(object) 객체를 입력받아 객체의 고유 주소 값(레퍼런스)을 돌려주는 함수\n",
    "input([prompt]) 사용자 입력을 받는 함수\n",
    "int 정수 변환\n",
    "isinstance(object, class) 첫 번째 인수로 인스턴스, 두 번째 인수로 클래스 이름.\n",
    "입력으로 받은 인스턴스가 그 클래스의 인스턴스인지를 판단하여\n",
    "참이면 T, 거짓이면 F 반환.\n",
    "len() 길이\n",
    "list 리스트로 전환\n",
    "map(f, iterable) 함수(f)와 자료형(iterable)을 입력.\n",
    "함수f가 수행한 결과를 묶어 반환"
   ],
   "metadata": {
    "collapsed": false,
    "pycharm": {
     "name": "#%% raw\n"
    }
   }
  },
  {
   "cell_type": "code",
   "execution_count": 3,
   "outputs": [
    {
     "data": {
      "text/plain": "[2, 4, 6, 8]"
     },
     "execution_count": 3,
     "metadata": {},
     "output_type": "execute_result"
    }
   ],
   "source": [
    "def two_times(x):\n",
    "  return x*2\n",
    "\n",
    "list(map(two_times, [1, 2, 3, 4]))"
   ],
   "metadata": {
    "collapsed": false,
    "pycharm": {
     "name": "#%%\n"
    }
   }
  },
  {
   "cell_type": "raw",
   "source": [
    "max 최댓값\n",
    "min 최솟값\n",
    "oct(x) 정수형태 숫자 입력, 8진수 문자열로 변환\n",
    "open(filename, [model]) 파일 이름, 읽는 방법(기본값 r)\n",
    "pow(x, y) 제곱\n",
    "range 범위 반복 (if문에서 사용)\n",
    "round 반올림\n",
    "sorted(iterable) 임력값을 정렬, 리스트로 반환\n",
    "str 문자열로 변환\n",
    "sum 합\n",
    "type 자료형이 뭔지\n",
    "zip 동일한 갯수로 이뤄진 자료형을 묶어줌"
   ],
   "metadata": {
    "collapsed": false,
    "pycharm": {
     "name": "#%% raw\n"
    }
   }
  },
  {
   "cell_type": "code",
   "execution_count": 4,
   "outputs": [
    {
     "data": {
      "text/plain": "[(1, 4, 7), (2, 5, 8), (3, 6, 9)]"
     },
     "execution_count": 4,
     "metadata": {},
     "output_type": "execute_result"
    }
   ],
   "source": [
    "list(zip([1, 2, 3], [4, 5, 6]))\n",
    "list(zip([1, 2, 3], [4, 5, 6], [7, 8, 9]))"
   ],
   "metadata": {
    "collapsed": false,
    "pycharm": {
     "name": "#%%\n"
    }
   }
  },
  {
   "cell_type": "code",
   "execution_count": null,
   "outputs": [],
   "source": [],
   "metadata": {
    "collapsed": false,
    "pycharm": {
     "name": "#%%\n"
    }
   }
  }
 ],
 "metadata": {
  "kernelspec": {
   "display_name": "Python 3",
   "language": "python",
   "name": "python3"
  },
  "language_info": {
   "codemirror_mode": {
    "name": "ipython",
    "version": 2
   },
   "file_extension": ".py",
   "mimetype": "text/x-python",
   "name": "python",
   "nbconvert_exporter": "python",
   "pygments_lexer": "ipython2",
   "version": "2.7.6"
  }
 },
 "nbformat": 4,
 "nbformat_minor": 0
}