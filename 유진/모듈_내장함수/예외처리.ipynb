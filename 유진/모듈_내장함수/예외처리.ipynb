{
 "cells": [
  {
   "cell_type": "markdown",
   "metadata": {
    "collapsed": true,
    "pycharm": {
     "name": "#%% md\n"
    }
   },
   "source": [
    "예외처리"
   ]
  },
  {
   "cell_type": "raw",
   "source": [
    "오류를 무시하고 싶을 때 try except를 통해 예외적으로 오류를 처리할 수 있음."
   ],
   "metadata": {
    "collapsed": false,
    "pycharm": {
     "name": "#%% raw\n"
    }
   }
  },
  {
   "cell_type": "markdown",
   "source": [
    "오류 종류"
   ],
   "metadata": {
    "collapsed": false,
    "pycharm": {
     "name": "#%% md\n"
    }
   }
  },
  {
   "cell_type": "raw",
   "source": [
    "없는 파일을 열려고 시도하면 FileNotFoundError 오류\n",
    "0으로 나누려니까 ZeroDivisionError 오류\n",
    "인덱스 범위 벗어나면 IndexError 오류"
   ],
   "metadata": {
    "collapsed": false,
    "pycharm": {
     "name": "#%% raw\n"
    }
   }
  },
  {
   "cell_type": "markdown",
   "source": [
    "try except 문"
   ],
   "metadata": {
    "collapsed": false,
    "pycharm": {
     "name": "#%% md\n"
    }
   }
  },
  {
   "cell_type": "raw",
   "source": [
    "try:\n",
    "except [발생 오류[as 오류 메시지 변수]]:\n",
    "\n",
    "try 블록 중 오류 발생하면 except 블록 수행."
   ],
   "metadata": {
    "collapsed": false,
    "pycharm": {
     "name": "#%% raw\n"
    }
   }
  },
  {
   "cell_type": "raw",
   "source": [
    "try:\n",
    "except:\n",
    "이 경우 오류 종류와 상관없이 except 블록 수행\n",
    "\n",
    "try:\n",
    "except 발생 오류:\n",
    "except문에 미리 정해 놓은 이름과 일치할 때만 수행\n",
    "\n",
    "try:\n",
    "except 발생오류 as 오류 메시지 변수:\n",
    "오류 메시지 내용까지 알려줌"
   ],
   "metadata": {
    "collapsed": false,
    "pycharm": {
     "name": "#%% raw\n"
    }
   }
  },
  {
   "cell_type": "raw",
   "source": [
    "try .. finally 리소스를 close 할 때  사용"
   ],
   "metadata": {
    "collapsed": false,
    "pycharm": {
     "name": "#%% raw\n"
    }
   }
  },
  {
   "cell_type": "raw",
   "source": [
    "except 여러개 사용해서 여러개의 오류처리할 수 있음\n",
    "try:\n",
    "except:\n",
    "else:\n",
    "try실행해서 오류 있으면 except, 없으면 else 실행"
   ],
   "metadata": {
    "collapsed": false,
    "pycharm": {
     "name": "#%% raw\n"
    }
   }
  },
  {
   "cell_type": "raw",
   "source": [
    "오류회피\n",
    "try:\n",
    "except 오류:\n",
    "    pass\n",
    "오류발생\n",
    "class a:\n",
    "    def b(self):\n",
    "        raise 오류\n",
    "raise를 통해 오류를 발생시킬 수 있음\n"
   ],
   "metadata": {
    "collapsed": false,
    "pycharm": {
     "name": "#%% raw\n"
    }
   }
  }
 ],
 "metadata": {
  "kernelspec": {
   "display_name": "Python 3",
   "language": "python",
   "name": "python3"
  },
  "language_info": {
   "codemirror_mode": {
    "name": "ipython",
    "version": 2
   },
   "file_extension": ".py",
   "mimetype": "text/x-python",
   "name": "python",
   "nbconvert_exporter": "python",
   "pygments_lexer": "ipython2",
   "version": "2.7.6"
  }
 },
 "nbformat": 4,
 "nbformat_minor": 0
}