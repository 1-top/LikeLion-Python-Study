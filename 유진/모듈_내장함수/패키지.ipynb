{
 "cells": [
  {
   "cell_type": "markdown",
   "metadata": {
    "collapsed": true,
    "pycharm": {
     "name": "#%% md\n"
    }
   },
   "source": [
    "패키지"
   ]
  },
  {
   "cell_type": "raw",
   "source": [
    "패키지는 도트(.)를 이용해서 모듈을 계층적(디렉터리 구조)으로 관리할 수 있게 해준다.\n",
    "a.b = a패키지의 b모듈\n",
    "패키지 구조: 공동작업, 유지 보수 여러 면에서 유리."
   ],
   "metadata": {
    "collapsed": false,
    "pycharm": {
     "name": "#%% raw\n"
    }
   }
  },
  {
   "cell_type": "markdown",
   "source": [
    "패키지 만들기"
   ],
   "metadata": {
    "collapsed": false,
    "pycharm": {
     "name": "#%% md\n"
    }
   }
  },
  {
   "cell_type": "raw",
   "source": [
    "C:/doit/game/__init__.py\n",
    "C:/doit/game/sound/__init__.py\n",
    "C:/doit/game/sound/echo.py\n",
    "C:/doit/game/graphic/__init__.py\n",
    "C:/doit/game/graphic/render.py"
   ],
   "metadata": {
    "collapsed": false,
    "pycharm": {
     "name": "#%% raw\n"
    }
   }
  },
  {
   "cell_type": "raw",
   "source": [
    "1. game은 이 패키지의 루트 디렉터리,\n",
    "나머지 sound graphic 이런 건 서브 디렉터리,\n",
    "밑줄init밑줄.py는 조금 특이한 용도로 사용됨."
   ],
   "metadata": {
    "collapsed": false,
    "pycharm": {
     "name": "#%% raw\n"
    }
   }
  },
  {
   "cell_type": "raw",
   "source": [
    "2. 각 디렉터리에 이닛파일 만들기"
   ],
   "metadata": {
    "collapsed": false,
    "pycharm": {
     "name": "#%% raw\n"
    }
   }
  },
  {
   "cell_type": "raw",
   "source": [
    "3. game 패키지 참조를 위해 set명령어로 pythonpath 환경변수에 디렉터리(c:/doit) 추가"
   ],
   "metadata": {
    "collapsed": false,
    "pycharm": {
     "name": "#%% raw\n"
    }
   }
  },
  {
   "cell_type": "markdown",
   "source": [
    "패키지 실행하기"
   ],
   "metadata": {
    "collapsed": false,
    "pycharm": {
     "name": "#%% md\n"
    }
   }
  },
  {
   "cell_type": "raw",
   "source": [
    "1. import game.sound.파일명\n",
    "   game.sound.파일명.함수명()\n",
    "2. from game.sound import 파일명\n",
    "   echo.echo_test()\n",
    "3. from game.sound.파일명 import 함수명\n",
    "   함수명()"
   ],
   "metadata": {
    "collapsed": false,
    "pycharm": {
     "name": "#%% raw\n"
    }
   }
  },
  {
   "cell_type": "markdown",
   "source": [
    "__init__.py 의 용도"
   ],
   "metadata": {
    "collapsed": false,
    "pycharm": {
     "name": "#%% md\n"
    }
   }
  },
  {
   "cell_type": "raw",
   "source": [
    "__init__.py파일은 해당 디렉터리가 패키지의 일부임을 알려주는 역할을 한다.\n",
    "만약 game, sound, graphic 등 패키지에 포함된 디렉터리에__init__.py파일이 없다면 패키지로 인식되지 않는다."
   ],
   "metadata": {
    "collapsed": false,
    "pycharm": {
     "name": "#%% raw\n"
    }
   }
  },
  {
   "cell_type": "raw",
   "source": [
    "from ~ import * 사용하기 위해\n",
    "해당 디렉터리 __init__.py에 __all__ 변수를 설정하고 import 할 수있는 모듈을 정의해야 됨\n",
    "\n",
    "# C:/doit/game/sound/__init__.py\n",
    "__all__ = ['echo']"
   ],
   "metadata": {
    "collapsed": false,
    "pycharm": {
     "name": "#%% raw\n"
    }
   }
  },
  {
   "cell_type": "code",
   "execution_count": null,
   "outputs": [],
   "source": [],
   "metadata": {
    "collapsed": false,
    "pycharm": {
     "name": "#%%\n"
    }
   }
  }
 ],
 "metadata": {
  "kernelspec": {
   "display_name": "Python 3",
   "language": "python",
   "name": "python3"
  },
  "language_info": {
   "codemirror_mode": {
    "name": "ipython",
    "version": 2
   },
   "file_extension": ".py",
   "mimetype": "text/x-python",
   "name": "python",
   "nbconvert_exporter": "python",
   "pygments_lexer": "ipython2",
   "version": "2.7.6"
  }
 },
 "nbformat": 4,
 "nbformat_minor": 0
}